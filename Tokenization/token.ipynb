{
 "cells": [
  {
   "cell_type": "code",
   "execution_count": 6,
   "metadata": {},
   "outputs": [
    {
     "name": "stdout",
     "output_type": "stream",
     "text": [
      "Hello guy's, I am Muhammad Ahsaan. \n",
      "I am a teacher and student of computer science!\n",
      "I love programming.\n",
      "\n"
     ]
    }
   ],
   "source": [
    "\n",
    "corpus=\"\"\"Hello guy's, I am Muhammad Ahsaan. \n",
    "I am a teacher and student of computer science!\n",
    "I love programming.\n",
    "\"\"\"\n",
    "print(corpus)"
   ]
  },
  {
   "cell_type": "code",
   "execution_count": 7,
   "metadata": {},
   "outputs": [
    {
     "name": "stdout",
     "output_type": "stream",
     "text": [
      "Hello guy's, I am Muhammad Ahsaan.\n",
      "I am a teacher and student of computer science!\n",
      "I love programming.\n"
     ]
    }
   ],
   "source": [
    "from nltk import sent_tokenize\n",
    "##Tokenization\n",
    "##Paragraph -> Sentence\n",
    "documents=sent_tokenize(corpus)\n",
    "for sent in documents:\n",
    "    print(sent)"
   ]
  },
  {
   "cell_type": "code",
   "execution_count": 8,
   "metadata": {},
   "outputs": [
    {
     "data": {
      "text/plain": [
       "['Hello',\n",
       " 'guy',\n",
       " \"'s\",\n",
       " ',',\n",
       " 'I',\n",
       " 'am',\n",
       " 'Muhammad',\n",
       " 'Ahsaan',\n",
       " '.',\n",
       " 'I',\n",
       " 'am',\n",
       " 'a',\n",
       " 'teacher',\n",
       " 'and',\n",
       " 'student',\n",
       " 'of',\n",
       " 'computer',\n",
       " 'science',\n",
       " '!',\n",
       " 'I',\n",
       " 'love',\n",
       " 'programming',\n",
       " '.']"
      ]
     },
     "execution_count": 8,
     "metadata": {},
     "output_type": "execute_result"
    }
   ],
   "source": [
    "from nltk.tokenize import word_tokenize\n",
    "##Paragraph --> Words\n",
    "word_tokenize(corpus)\n"
   ]
  },
  {
   "cell_type": "code",
   "execution_count": 9,
   "metadata": {},
   "outputs": [
    {
     "name": "stdout",
     "output_type": "stream",
     "text": [
      "['Hello', 'guy', \"'s\", ',', 'I', 'am', 'Muhammad', 'Ahsaan', '.']\n",
      "['I', 'am', 'a', 'teacher', 'and', 'student', 'of', 'computer', 'science', '!']\n",
      "['I', 'love', 'programming', '.']\n"
     ]
    }
   ],
   "source": [
    "##Sentences --> Words\n",
    "for sent in documents:\n",
    "    print(word_tokenize(sent))"
   ]
  },
  {
   "cell_type": "code",
   "execution_count": 10,
   "metadata": {},
   "outputs": [
    {
     "data": {
      "text/plain": [
       "['Hello',\n",
       " 'guy',\n",
       " \"'\",\n",
       " 's',\n",
       " ',',\n",
       " 'I',\n",
       " 'am',\n",
       " 'Muhammad',\n",
       " 'Ahsaan',\n",
       " '.',\n",
       " 'I',\n",
       " 'am',\n",
       " 'a',\n",
       " 'teacher',\n",
       " 'and',\n",
       " 'student',\n",
       " 'of',\n",
       " 'computer',\n",
       " 'science',\n",
       " '!',\n",
       " 'I',\n",
       " 'love',\n",
       " 'programming',\n",
       " '.']"
      ]
     },
     "execution_count": 10,
     "metadata": {},
     "output_type": "execute_result"
    }
   ],
   "source": [
    "from nltk.tokenize import wordpunct_tokenize\n",
    "wordpunct_tokenize(corpus)"
   ]
  },
  {
   "cell_type": "code",
   "execution_count": 12,
   "metadata": {},
   "outputs": [
    {
     "data": {
      "text/plain": [
       "['Hello',\n",
       " 'guy',\n",
       " \"'s\",\n",
       " ',',\n",
       " 'I',\n",
       " 'am',\n",
       " 'Muhammad',\n",
       " 'Ahsaan.',\n",
       " 'I',\n",
       " 'am',\n",
       " 'a',\n",
       " 'teacher',\n",
       " 'and',\n",
       " 'student',\n",
       " 'of',\n",
       " 'computer',\n",
       " 'science',\n",
       " '!',\n",
       " 'I',\n",
       " 'love',\n",
       " 'programming',\n",
       " '.']"
      ]
     },
     "execution_count": 12,
     "metadata": {},
     "output_type": "execute_result"
    }
   ],
   "source": [
    "from nltk.tokenize import TreebankWordTokenizer\n",
    "TreebankWordTokenizer().tokenize(corpus)"
   ]
  },
  {
   "cell_type": "code",
   "execution_count": null,
   "metadata": {},
   "outputs": [],
   "source": []
  }
 ],
 "metadata": {
  "kernelspec": {
   "display_name": "Python 3",
   "language": "python",
   "name": "python3"
  },
  "language_info": {
   "codemirror_mode": {
    "name": "ipython",
    "version": 3
   },
   "file_extension": ".py",
   "mimetype": "text/x-python",
   "name": "python",
   "nbconvert_exporter": "python",
   "pygments_lexer": "ipython3",
   "version": "3.12.0"
  },
  "orig_nbformat": 4
 },
 "nbformat": 4,
 "nbformat_minor": 2
}
